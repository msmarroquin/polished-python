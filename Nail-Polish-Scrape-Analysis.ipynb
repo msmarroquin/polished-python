{
 "cells": [
  {
   "cell_type": "markdown",
   "id": "d8d38435",
   "metadata": {},
   "source": [
    "# 1. Import Dependencies"
   ]
  },
  {
   "cell_type": "code",
   "execution_count": 3,
   "id": "12114fbe",
   "metadata": {},
   "outputs": [
    {
     "name": "stdout",
     "output_type": "stream",
     "text": [
      "Requirement already satisfied: requests in /Users/marciahomefolder/opt/anaconda3/lib/python3.9/site-packages (2.26.0)\n",
      "Requirement already satisfied: beautifulsoup4 in /Users/marciahomefolder/opt/anaconda3/lib/python3.9/site-packages (4.10.0)\n",
      "Requirement already satisfied: pandas in /Users/marciahomefolder/opt/anaconda3/lib/python3.9/site-packages (1.3.4)\n",
      "Requirement already satisfied: numpy in /Users/marciahomefolder/opt/anaconda3/lib/python3.9/site-packages (1.20.3)\n",
      "Requirement already satisfied: idna<4,>=2.5 in /Users/marciahomefolder/opt/anaconda3/lib/python3.9/site-packages (from requests) (3.2)\n",
      "Requirement already satisfied: certifi>=2017.4.17 in /Users/marciahomefolder/opt/anaconda3/lib/python3.9/site-packages (from requests) (2021.10.8)\n",
      "Requirement already satisfied: urllib3<1.27,>=1.21.1 in /Users/marciahomefolder/opt/anaconda3/lib/python3.9/site-packages (from requests) (1.26.7)\n",
      "Requirement already satisfied: charset-normalizer~=2.0.0 in /Users/marciahomefolder/opt/anaconda3/lib/python3.9/site-packages (from requests) (2.0.4)\n",
      "Requirement already satisfied: soupsieve>1.2 in /Users/marciahomefolder/opt/anaconda3/lib/python3.9/site-packages (from beautifulsoup4) (2.2.1)\n",
      "Requirement already satisfied: python-dateutil>=2.7.3 in /Users/marciahomefolder/opt/anaconda3/lib/python3.9/site-packages (from pandas) (2.8.2)\n",
      "Requirement already satisfied: pytz>=2017.3 in /Users/marciahomefolder/opt/anaconda3/lib/python3.9/site-packages (from pandas) (2021.3)\n",
      "Requirement already satisfied: six>=1.5 in /Users/marciahomefolder/opt/anaconda3/lib/python3.9/site-packages (from python-dateutil>=2.7.3->pandas) (1.16.0)\n"
     ]
    }
   ],
   "source": [
    "!pip install requests beautifulsoup4 pandas numpy"
   ]
  },
  {
   "cell_type": "code",
   "execution_count": 2,
   "id": "1df48a78",
   "metadata": {},
   "outputs": [],
   "source": [
    "import json\n",
    "import requests\n",
    "from bs4 import BeautifulSoup\n",
    "import re\n",
    "import pandas as pd\n",
    "import numpy as np\n",
    "import matplotlib.pyplot as plt"
   ]
  },
  {
   "cell_type": "markdown",
   "id": "71d780a5",
   "metadata": {},
   "source": [
    "# 2. Collect Cirque Colors Product Data"
   ]
  },
  {
   "cell_type": "code",
   "execution_count": 3,
   "id": "6c3ec39a",
   "metadata": {},
   "outputs": [],
   "source": [
    "# Request HTML page for Cirque Colors - What's New\n",
    "r = requests.get(\"https://www.cirquecolors.com/new/\")\n",
    "soup = BeautifulSoup(r.text, \"html.parser\")\n",
    "regex = re.compile(\".*product-item card*\")\n",
    "results = soup.find_all(\"article\", {\"class\": regex})\n",
    "\n",
    "# Existing Cirque Color color words\n",
    "colors = [\"Reds\", \"Oranges\", \"Yellows\", \"Greens\", \"Blues\", \n",
    "          \"Violets\", \"Pinks\", \"Browns\", \"Monochrome\", \"Multicolored\"]\n",
    "\n",
    "# Create variable that represents ending of plural words\n",
    "plural = \"s\"\n",
    "\n",
    "# Create list to hold categories from HTML page\n",
    "categories = []\n",
    "for category in results:\n",
    "    data = category.get(\"data-product-category\")\n",
    "    data_split = re.split(\"\\W+\", data)\n",
    "    categories.extend(data_split)\n",
    "\n",
    "# Create list to hold best selling Cirque Color colors\n",
    "cc_colors = []\n",
    "#for category in categories:\n",
    "for category in categories:\n",
    "    for color in colors:\n",
    "        if category == color:\n",
    "            cc_colors.append(category)\n",
    "\n",
    "# Shorten list to 30 elements            \n",
    "del cc_colors[30:]\n",
    "\n",
    "# Make plural words singular words\n",
    "for index, color in enumerate(cc_colors):\n",
    "    if color[-1] == plural:\n",
    "        cc_colors[index] = color[:-1]\n",
    "        \n",
    "# Create json variable to store data in external file\n",
    "cirque_colors_json = json.dumps(cc_colors)\n",
    "with open(\"cirque_best_seller_Jan22.json\", \"w\") as cirque_json:\n",
    "    cirque_json.write(cirque_colors_json)       "
   ]
  },
  {
   "cell_type": "markdown",
   "id": "15ec7ea4",
   "metadata": {},
   "source": [
    "# 3. Collect OPI Product Data"
   ]
  },
  {
   "cell_type": "code",
   "execution_count": 4,
   "id": "4e0ab23f",
   "metadata": {},
   "outputs": [],
   "source": [
    "# Request HTML page for OPI - What's New\n",
    "ropi = requests.get(\"https://www.opi.com/whats-new\")\n",
    "soup_opi = BeautifulSoup(ropi.text, \"html.parser\")\n",
    "regex_opi = re.compile(\"\\w\")\n",
    "results_opi = soup_opi.find_all(\"a\",{\"class\":regex_opi})\n",
    "\n",
    "# Create list to hold data-color-family-primary extractions\n",
    "data_color = []\n",
    "for result in results_opi:\n",
    "    data_opi = result.get(\"data-color-family-primary\")\n",
    "    data_color.append(data_opi)\n",
    "\n",
    "# Create list to hold best-selling OPI colors \n",
    "opi_colors = []\n",
    "for color in data_color:\n",
    "    if color!= None and color!=\"\":\n",
    "        opi_colors.append(color)\n",
    "\n",
    "# Shorten list to 30 elements        \n",
    "del opi_colors[30:]\n",
    "\n",
    "# Create json variable to store data in external file\n",
    "opi_colors_json = json.dumps(opi_colors)\n",
    "with open(\"opi_best_seller_Jan22.json\", \"w\") as opi_json:\n",
    "    opi_json.write(opi_colors_json)"
   ]
  },
  {
   "cell_type": "markdown",
   "id": "fa2d2509",
   "metadata": {},
   "source": [
    "# 3. Populate a Pandas DataFrame"
   ]
  },
  {
   "cell_type": "code",
   "execution_count": 6,
   "id": "da2c0840",
   "metadata": {},
   "outputs": [],
   "source": [
    "# Convert lists to numpy arrays in order to load into DataFrame\n",
    "np_cc_colors = np.array(cc_colors)\n",
    "np_opi_colors = np.array(opi_colors)\n",
    "\n",
    "# Create Dataframe with Cirque Colors and OPI data\n",
    "df = pd.DataFrame({\"Cirque Colors\":np_cc_colors, \"OPI Colors\":np_opi_colors})\n"
   ]
  },
  {
   "cell_type": "code",
   "execution_count": 7,
   "id": "9828801d",
   "metadata": {},
   "outputs": [],
   "source": [
    "# Group colors for each brand by count \n",
    "cc_count = df[\"Cirque Colors\"].value_counts()\n",
    "opi_count = df[\"OPI Colors\"].value_counts()\n"
   ]
  },
  {
   "cell_type": "markdown",
   "id": "1e31eb0f",
   "metadata": {},
   "source": [
    "# 4. Create Bar Charts Using Pandas"
   ]
  },
  {
   "cell_type": "code",
   "execution_count": 8,
   "id": "b1e85860",
   "metadata": {},
   "outputs": [
    {
     "data": {
      "image/png": "[encoded data removed]",
      "text/plain": [
       "<Figure size 432x360 with 1 Axes>"
      ]
     },
     "metadata": {
      "needs_background": "light"
     },
     "output_type": "display_data"
    }
   ],
   "source": [
    "# Assign colors to bar plot indexes\n",
    "s = pd.Series([\"black\",\"tab:pink\",\"tab:red\",\"tab:purple\",\"tab:green\",\"tab:blue\",\"dimgray\",\"tab:orange\",\"tab:brown\"], \n",
    "              index=[\"1\",\"2\",\"3\",\"4\",\"5\",\"6\",\"7\",\"8\",\"9\"])\n",
    "cc_chart = cc_count.plot.bar(stacked=False, title=\"Cirque Colors Best Selling Colors - January 2022\", ylabel=\"Count\", xlabel=\"Color\", color=s, figsize=(6,5))"
   ]
  },
  {
   "cell_type": "code",
   "execution_count": 147,
   "id": "65496743",
   "metadata": {},
   "outputs": [
    {
     "data": {
      "image/png": "[encoded data removed]",
      "text/plain": [
       "<Figure size 432x360 with 1 Axes>"
      ]
     },
     "metadata": {
      "needs_background": "light"
     },
     "output_type": "display_data"
    }
   ],
   "source": [
    "# Assign colors to bar plot indexes\n",
    "a = pd.Series([\"tab:blue\",\"tab:red\",\"tab:purple\",\"tab:pink\",\"whitesmoke\",\"tab:green\"], \n",
    "              index=[\"1\",\"2\",\"3\",\"4\",\"5\",\"6\"])\n",
    "opi_chart = opi_count.plot.bar(stacked=False, title=\"OPI Best Selling Colors - January 2022\", ylabel=\"Count\", xlabel=\"Color\", figsize=(6,5), color=a)"
   ]
  },
  {
   "cell_type": "markdown",
   "id": "6da8ec1e",
   "metadata": {},
   "source": [
    "# 5. Create Donuts Using Matplotlib"
   ]
  },
  {
   "cell_type": "code",
   "execution_count": 49,
   "id": "72da9262",
   "metadata": {},
   "outputs": [
    {
     "data": {
      "text/plain": [
       "<matplotlib.patches.Circle at 0x7fa149677cd0>"
      ]
     },
     "execution_count": 49,
     "metadata": {},
     "output_type": "execute_result"
    },
    {
     "data": {
      "image/png": "[encoded data removed]",
      "text/plain": [
       "<Figure size 432x288 with 1 Axes>"
      ]
     },
     "metadata": {},
     "output_type": "display_data"
    }
   ],
   "source": [
    "# Create dictionary to hold color and count\n",
    "cc_dict = {}\n",
    "for color in cc_colors:\n",
    "    if color in cc_dict:\n",
    "        cc_dict[color] += 1\n",
    "    else:\n",
    "        cc_dict[color] = 1\n",
    " \n",
    "# Create two lists to hold pie labels and sizes\n",
    "cc_labels = []\n",
    "cc_sizes = []\n",
    "cc_color_list = [\"red\",\"violet\",\"black\",\"limegreen\",\"royalblue\",\"lightpink\",\"orange\",\"peru\",\"dimgray\"]\n",
    "\n",
    "for color, count in cc_dict.items():\n",
    "    cc_labels.append(color)\n",
    "    cc_sizes.append(count)\n",
    "    \n",
    "# Plot data\n",
    "plt.pie(cc_sizes, labels=cc_labels, colors=cc_color_list)\n",
    "\n",
    "# Create circle\n",
    "cc_circle = plt.Circle( (0,0), 0.7, color=\"white\")\n",
    "\n",
    "# Add the circle to the pie chart\n",
    "p=plt.gcf()\n",
    "p.gca().add_artist(cc_circle)"
   ]
  },
  {
   "cell_type": "code",
   "execution_count": 50,
   "id": "01cbdf21",
   "metadata": {},
   "outputs": [
    {
     "data": {
      "text/plain": [
       "<matplotlib.patches.Circle at 0x7fa1487907f0>"
      ]
     },
     "execution_count": 50,
     "metadata": {},
     "output_type": "execute_result"
    },
    {
     "data": {
      "image/png": "[encoded data removed]",
      "text/plain": [
       "<Figure size 432x288 with 1 Axes>"
      ]
     },
     "metadata": {},
     "output_type": "display_data"
    }
   ],
   "source": [
    "# Create dictionary to hold color and count\n",
    "opi_dict = {}\n",
    "for color in opi_colors:\n",
    "    if color in opi_dict:\n",
    "        opi_dict[color] += 1\n",
    "    else:\n",
    "        opi_dict[color] = 1\n",
    "        \n",
    "# Create two lists to hold pie labels and sizes and colors\n",
    "opi_labels = []\n",
    "opi_sizes = []\n",
    "opi_color_list = [\"violet\", \"royalblue\", \"red\", \"whitesmoke\", \"hotpink\",\"limegreen\"]\n",
    "\n",
    "for color, count in opi_dict.items():\n",
    "    opi_labels.append(color)\n",
    "    opi_sizes.append(count)\n",
    "\n",
    "# Create circle\n",
    "opi_circle = plt.Circle( (0,0), 0.7, color=\"white\")\n",
    "        \n",
    "# Plot data\n",
    "plt.pie(opi_sizes, labels =opi_labels, colors=opi_color_list)\n",
    "\n",
    "# Add the circle to the pie chart\n",
    "p=plt.gcf()\n",
    "p.gca().add_artist(opi_circle)"
   ]
  }
 ],
 "metadata": {
  "kernelspec": {
   "display_name": "Python 3 (ipykernel)",
   "language": "python",
   "name": "python3"
  },
  "language_info": {
   "codemirror_mode": {
    "name": "ipython",
    "version": 3
   },
   "file_extension": ".py",
   "mimetype": "text/x-python",
   "name": "python",
   "nbconvert_exporter": "python",
   "pygments_lexer": "ipython3",
   "version": "3.9.7"
  }
 },
 "nbformat": 4,
 "nbformat_minor": 5
}
